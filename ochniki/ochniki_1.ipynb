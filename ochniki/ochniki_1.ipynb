{
 "cells": [
  {
   "cell_type": "code",
   "execution_count": null,
   "id": "8899f410",
   "metadata": {},
   "outputs": [],
   "source": [
    "import pandas as pd\n",
    "import numpy as np\n",
    "import datetime \n",
    "import matplotlib.pyplot as plt\n",
    "import seaborn as sns"
   ]
  },
  {
   "cell_type": "code",
   "execution_count": null,
   "id": "cc7e936c",
   "metadata": {},
   "outputs": [],
   "source": [
    "course = pd.read_csv('C://Users//37529//Desktop//data since//lms//zaochniki//mdl_course_202209202157.csv')\n",
    "categor = pd.read_csv(\"C://Users//37529//Desktop//data since//lms//zaochniki//mdl_course_categories_202209202207.csv\")\n",
    "assrole=pd.read_csv('C://Users//37529//Desktop//data since//lms//zaochniki//role_assignment.csv')\n",
    "role=pd.read_csv('C://Users//37529//Desktop//data since//lms//zaochniki//roles.csv')"
   ]
  },
  {
   "cell_type": "code",
   "execution_count": null,
   "id": "e74327f7",
   "metadata": {},
   "outputs": [],
   "source": [
    "role"
   ]
  },
  {
   "cell_type": "code",
   "execution_count": null,
   "id": "ee40af3e",
   "metadata": {
    "scrolled": false
   },
   "outputs": [],
   "source": [
    "one = pd.read_csv('C://Users//37529//Desktop//data since//data//logs-2021_2022_1.csv')\n",
    "two = pd.read_csv('C://Users//37529//Desktop//data since//data//logs-2021_2022_2.csv')\n",
    "third=pd.read_csv('C://Users//37529//Desktop//data since//data//logs-2021_2022_3.csv')\n",
    "four= pd.read_csv('C://Users//37529//Desktop//data since//data//logs-2021_2022_4.csv')\n",
    "five = pd.read_csv('C://Users//37529//Desktop//data since//data//logs-2021_2022_5.csv')\n",
    "six = pd.read_csv('C://Users//37529//Desktop//data since//data//logs-2021_2022_6.csv')\n",
    "sev = pd.read_csv('C://Users//37529//Desktop//data since//data//logs-2021_2022_7.csv')\n",
    "eight = pd.read_csv('C://Users//37529//Desktop//data since//data//logs-2021_2022_8.csv')\n",
    "nine = pd.read_csv('C://Users//37529//Desktop//data since//data//logs-2021_2022_9.csv')\n",
    "ten = pd.read_csv('C://Users//37529//Desktop//data since//data//logs-2021_2022_10.csv')\n",
    "elev = pd.read_csv('C://Users//37529//Desktop//data since//data//logs-2021_2022_11.csv')\n"
   ]
  },
  {
   "cell_type": "code",
   "execution_count": null,
   "id": "f98050d5",
   "metadata": {},
   "outputs": [],
   "source": [
    "logs=pd.concat([one,two,third,four,five,six,sev,eight,nine,ten,elev])\n",
    "logs.timecreated=logs.timecreated.astype(int)\n",
    "logs.timecreated=pd.to_datetime(logs.timecreated, unit='s')\n",
    "logs.timecreated = logs.timecreated + pd.DateOffset(hours=3)\n",
    "logs['year']=logs['timecreated'].dt.year\n",
    "logs['month']=logs['timecreated'].dt.month\n",
    "logs['day']=logs['timecreated'].dt.day\n",
    "logs['weekday'] = logs['timecreated'].dt.day_name()\n",
    "logs['hours']=logs.timecreated.dt.hour\n",
    "logs['minute']=logs['timecreated'].dt.minute\n",
    "logs=logs[logs['courseid']>1]\n",
    "logs"
   ]
  },
  {
   "cell_type": "code",
   "execution_count": null,
   "id": "04b8fbee",
   "metadata": {
    "scrolled": false
   },
   "outputs": [],
   "source": [
    "#выделение всех у кого roleid=15, т.е. студентов ДнФП получения образования\n",
    "assrole=assrole.drop(np.where(assrole['roleid'] != 15)[0]) \n",
    "assrole"
   ]
  },
  {
   "cell_type": "code",
   "execution_count": null,
   "id": "9e978014",
   "metadata": {},
   "outputs": [],
   "source": [
    "#оставляем в логах только действия студентов-дневников\n",
    "value = assrole['userid']\n",
    "logs=logs.query(\"userid in @value\")\n",
    "logs"
   ]
  },
  {
   "cell_type": "code",
   "execution_count": null,
   "id": "d9de8635",
   "metadata": {},
   "outputs": [],
   "source": [
    "assrole.nunique()"
   ]
  },
  {
   "cell_type": "code",
   "execution_count": null,
   "id": "42be2d14",
   "metadata": {},
   "outputs": [],
   "source": [
    "#Выделение всех действий , которые были произведены студентами за все время \n",
    "logs['action'].unique()"
   ]
  },
  {
   "cell_type": "code",
   "execution_count": null,
   "id": "224fa997",
   "metadata": {},
   "outputs": [],
   "source": [
    "#Выделение только теории\n",
    "teor = pd.DataFrame({'name': ['viewed', 'reviewed', 'shown']})\n",
    "value = teor['name']\n",
    "logs_teor=logs.query(\"action in @value\")\n"
   ]
  },
  {
   "cell_type": "code",
   "execution_count": null,
   "id": "29a97c55",
   "metadata": {},
   "outputs": [],
   "source": [
    "#выбор из всех курсов курсы определенной кафедры\n",
    "#ФКП\n",
    "kaf_ikg=course.drop(np.where((course['category'] != 168))[0]) \n",
    "kaf_ipe=course.drop(np.where((course['category'] != 169))[0]) \n",
    "kaf_iya=course.drop(np.where((course['category'] != 170))[0]) \n",
    "kaf_piks=course.drop(np.where((course['category'] != 171))[0]) \n",
    "kaf_ett=course.drop(np.where((course['category'] != 172))[0]) "
   ]
  },
  {
   "cell_type": "code",
   "execution_count": null,
   "id": "5b7acada",
   "metadata": {},
   "outputs": [],
   "source": [
    "#ФИТУ\n",
    "kaf_vmp=course.drop(np.where((course['category'] != 178))[0]) \n",
    "kaf_gd=course.drop(np.where((course['category'] != 179))[0])\n",
    "kaf_iit=course.drop(np.where((course['category'] != 180))[0]) \n",
    "kaf_itas=course.drop(np.where((course['category'] != 181))[0])\n",
    "kaf_sy=course.drop(np.where((course['category'] != 182))[0]) \n",
    "kaf_teo=course.drop(np.where((course['category'] != 183))[0]) "
   ]
  },
  {
   "cell_type": "code",
   "execution_count": null,
   "id": "4311a9ec",
   "metadata": {},
   "outputs": [],
   "source": [
    "#ФРЭ\n",
    "kaf_e=course.drop(np.where((course['category'] != 190))[0]) \n",
    "kaf_ir=course.drop(np.where((course['category'] != 191))[0])\n",
    "kaf_mn=course.drop(np.where((course['category'] != 192))[0]) "
   ]
  },
  {
   "cell_type": "code",
   "execution_count": null,
   "id": "640e3f6d",
   "metadata": {},
   "outputs": [],
   "source": [
    "#ФКСиС\n",
    "kaf_vmat=course.drop(np.where((course['category'] != 196))[0]) \n",
    "kaf_inf=course.drop(np.where((course['category'] != 197))[0])\n",
    "kaf_poit=course.drop(np.where((course['category'] != 198))[0]) \n",
    "kaf_fz=course.drop(np.where((course['category'] != 199))[0])\n",
    "kaf_fil=course.drop(np.where((course['category'] != 200))[0]) \n",
    "kaf_evm=course.drop(np.where((course['category'] != 201))[0]) \n",
    "kaf_evs=course.drop(np.where((course['category'] != 202))[0]) "
   ]
  },
  {
   "cell_type": "code",
   "execution_count": null,
   "id": "f2d10814",
   "metadata": {},
   "outputs": [],
   "source": [
    "#ФИК\n",
    "kaf_zi=course.drop(np.where((course['category'] != 210))[0]) \n",
    "kaf_it=course.drop(np.where((course['category'] != 211))[0])\n"
   ]
  },
  {
   "cell_type": "code",
   "execution_count": null,
   "id": "fca058b2",
   "metadata": {},
   "outputs": [],
   "source": [
    "#ИЭФ\n",
    "kaf_mg=course.drop(np.where((course['category'] != 214))[0]) \n",
    "kaf_ekon=course.drop(np.where((course['category'] != 215))[0])\n",
    "kaf_ei=course.drop(np.where((course['category'] != 216))[0]) \n",
    "kaf_mpk=course.drop(np.where((course['category'] != 217))[0])\n"
   ]
  },
  {
   "cell_type": "code",
   "execution_count": null,
   "id": "874ec335",
   "metadata": {},
   "outputs": [],
   "source": [
    "#Выделение практики\n",
    "pract = pd.DataFrame({'name': ['created','uploaded', 'downloaded', 'deleted', 'assigned', 'unassigned','added', 'answered', 'removed', 'joined', 'restored','searched', 'duplicated', 'accepted', 'moved', 'exported','imported', 'sent', 'becameoverdue', 'launched','received', 'assessed', 'reassessed', 'prevented', 'protected','unprotected', 'evaluated', 'edited', 'run', 'debugged','switched', 'pinned', 'unpinned', 'abandoned']})\n",
    "value = pract['name']\n",
    "logs_pract=logs.query(\"action in @value\")\n",
    "logs_pract"
   ]
  },
  {
   "cell_type": "code",
   "execution_count": null,
   "id": "4189e1fb",
   "metadata": {},
   "outputs": [],
   "source": [
    "#теоретическая работа на каждой кафедре"
   ]
  },
  {
   "cell_type": "code",
   "execution_count": null,
   "id": "d61647f8",
   "metadata": {},
   "outputs": [],
   "source": [
    "#ФКП\n",
    "teor_fkp=[logs_teor_kaf_ikg, logs_teor_kaf_ipe, logs_teor_kaf_iya, logs_teor_kaf_piks, logs_teor_kaf_ett]\n",
    "fkp_kaf_name=['Кафедра инженерной и компьютерной графики', 'Кафедра инженерной психологии и эргономики', 'Кафедра иностранных языков', 'Кафедра проектирования информационно-компьютерных систем', 'Кафедра электронной техники итехнологии']\n",
    "\n",
    "\n",
    "value = kaf_ikg['id']\n",
    "logs_teor_kaf_ikg=logs_teor.query(\"courseid in @value\")\n",
    "\n",
    "value = kaf_ipe['id']\n",
    "logs_teor_kaf_ipe=logs_teor.query(\"courseid in @value\")\n",
    "\n",
    "value = kaf_iya['id']\n",
    "logs_teor_kaf_iya=logs_teor.query(\"courseid in @value\")\n",
    "\n",
    "value = kaf_piks['id']\n",
    "logs_teor_kaf_piks=logs_teor.query(\"courseid in @value\")\n",
    "\n",
    "value = kaf_ett['id']\n",
    "logs_teor_kaf_ett=logs_teor.query(\"courseid in @value\")\n"
   ]
  },
  {
   "cell_type": "code",
   "execution_count": null,
   "id": "f1cc8943",
   "metadata": {},
   "outputs": [],
   "source": [
    "#ФИТУ\n",
    "teor_fitu=[logs_teor_kaf_vmp, logs_teor_kaf_gd, logs_teor_kaf_iit, logs_teor_kaf_itas, logs_teor_kaf_sy, logs_teor_kaf_teo]\n",
    "fitu_kaf_name=['Кафедра вычислительных методов и программирования', 'Кафедра гуманитарных дисциплин', 'Кафедра интеллектуальных информационных технологий', 'Кафедра информационных технологий автоматизированных систем', 'Кафедра систем управления', 'Кафедра теоретических основ электротехники']\n",
    "\n",
    "\n",
    "value = kaf_vmp['id']\n",
    "logs_teor_kaf_vmp=logs_teor.query(\"courseid in @value\")\n",
    "\n",
    "value = kaf_gd['id']\n",
    "logs_teor_kaf_gd=logs_teor.query(\"courseid in @value\")\n",
    "\n",
    "value = kaf_iit['id']\n",
    "logs_teor_kaf_iit=logs_teor.query(\"courseid in @value\")\n",
    "\n",
    "value = kaf_itas['id']\n",
    "logs_teor_kaf_itas=logs_teor.query(\"courseid in @value\")\n",
    "\n",
    "value = kaf_sy['id']\n",
    "logs_teor_kaf_sy=logs_teor.query(\"courseid in @value\")\n",
    "\n",
    "value =kaf_teo['id']\n",
    "logs_teor_kaf_teo=logs_teor.query(\"courseid in @value\")"
   ]
  },
  {
   "cell_type": "code",
   "execution_count": null,
   "id": "d32224ef",
   "metadata": {},
   "outputs": [],
   "source": [
    "#ФРЭ\n",
    "teor_fre=[logs_teor_kaf_e, logs_teor_kaf_ir, logs_teor_kaf_mn]\n",
    "fre_kaf_name=['Кафедра электроники', 'Кафедра информационных радиотехнологий', 'Кафедра микро- и наноэлектроники']\n",
    "\n",
    "\n",
    "value = kaf_e['id']\n",
    "logs_teor_kaf_e=logs_teor.query(\"courseid in @value\")\n",
    "\n",
    "value = kaf_ir['id']\n",
    "logs_teor_kaf_ir=logs_teor.query(\"courseid in @value\")\n",
    "\n",
    "value = kaf_mn['id']\n",
    "logs_teor_kaf_mn=logs_teor.query(\"courseid in @value\")"
   ]
  },
  {
   "cell_type": "code",
   "execution_count": null,
   "id": "e2f266a7",
   "metadata": {},
   "outputs": [],
   "source": [
    "#ФКСиС\n",
    "teor_fksis=[logs_teor_kaf_vmat, logs_teor_kaf_inf, logs_teor_kaf_poit, logs_teor_kaf_fz, logs_teor_kaf_fil, logs_teor_kaf_evm, logs_teor_kaf_evs]\n",
    "fksis_kaf_name=['Кафедра высшей математики', 'Кафедра информатикий', 'Кафедра программного обеспечения информационных технологий', 'Кафедра физики', 'Кафедра философии', 'Кафедра электронных вычислительных машин', 'Кафедра электронных вычислительных средств']\n",
    "\n",
    "\n",
    "value = kaf_vmat['id']\n",
    "logs_teor_kaf_vmat=logs_teor.query(\"courseid in @value\")\n",
    "\n",
    "value = kaf_inf['id']\n",
    "logs_teor_kaf_inf=logs_teor.query(\"courseid in @value\")\n",
    "\n",
    "value = kaf_poit['id']\n",
    "logs_teor_kaf_poit=logs_teor.query(\"courseid in @value\")\n",
    "\n",
    "value = kaf_fz['id']\n",
    "logs_teor_kaf_fz=logs_teor.query(\"courseid in @value\")\n",
    "\n",
    "value = kaf_fil['id']\n",
    "logs_teor_kaf_fil=logs_teor.query(\"courseid in @value\")\n",
    "\n",
    "value =kaf_evm['id']\n",
    "logs_teor_kaf_evm=logs_teor.query(\"courseid in @value\")\n",
    "\n",
    "value =kaf_evs['id']\n",
    "logs_teor_kaf_evs=logs_teor.query(\"courseid in @value\")"
   ]
  },
  {
   "cell_type": "code",
   "execution_count": null,
   "id": "6059cf4c",
   "metadata": {},
   "outputs": [],
   "source": [
    "#ФИК\n",
    "teor_fik=[logs_teor_kaf_zi, logs_teor_kaf_it]\n",
    "fik_kaf_name=['Кафедра защиты информации', 'Кафедра инфокоммуникационных технологий']\n",
    "\n",
    "\n",
    "value = kaf_zi['id']\n",
    "logs_teor_kaf_zi=logs_teor.query(\"courseid in @value\")\n",
    "\n",
    "value = kaf_it['id']\n",
    "logs_teor_kaf_it=logs_teor.query(\"courseid in @value\")"
   ]
  },
  {
   "cell_type": "code",
   "execution_count": null,
   "id": "ddb79049",
   "metadata": {},
   "outputs": [],
   "source": [
    "#ИЭФ\n",
    "teor_ief=[logs_teor_kaf_mg, logs_teor_kaf_ekon, logs_teor_kaf_ei, logs_teor_kaf_mpk]\n",
    "ief_kaf_name=['Кафедра менеджмента', 'Кафедра экономики', 'Кафедра экономической информатики', 'Кафедра межкультурной профессиональной коммуникации']\n",
    "\n",
    "\n",
    "value = kaf_mg['id']\n",
    "logs_teor_kaf_mg=logs_teor.query(\"courseid in @value\")\n",
    "\n",
    "value = kaf_ekon['id']\n",
    "logs_teor_kaf_ekon=logs_teor.query(\"courseid in @value\")\n",
    "\n",
    "value = kaf_ei['id']\n",
    "logs_teor_kaf_ei=logs_teor.query(\"courseid in @value\")\n",
    "\n",
    "value = kaf_mpk['id']\n",
    "logs_teor_kaf_mpk=logs_teor.query(\"courseid in @value\")"
   ]
  },
  {
   "cell_type": "code",
   "execution_count": null,
   "id": "7cb2b305",
   "metadata": {},
   "outputs": [],
   "source": [
    "logs_teor_kaf_ = logs_teor_kaf_ikg.groupby(['month','day','hours'])['userid'].count()\n",
    "logs_teor_kaf_ = logs_teor_kaf_.loc[9,:,:]"
   ]
  },
  {
   "cell_type": "code",
   "execution_count": null,
   "id": "a422966b",
   "metadata": {},
   "outputs": [],
   "source": []
  },
  {
   "cell_type": "code",
   "execution_count": null,
   "id": "7eab8962",
   "metadata": {},
   "outputs": [],
   "source": [
    "# logs_teor_kaf_ = logs_teor_kaf_ikg.groupby(['month','day','hours'])['userid'].count()\n",
    "# logs_teor_kaf_ = logs_teor_kaf_.loc[9,:,:].reset_index().pivot(index='hours', columns='day', values='userid')\n",
    "# logs_teor_kaf_.fillna(0, inplace=True)\n",
    "# plt.figure(figsize=(17, 9))\n",
    "# logs_teor_kaf_ = logs_teor_kaf_.reindex(range(0,24), axis=0, fill_value=0)\n",
    "# logs_teor_kaf_= logs_teor_kaf_.reindex(range(1,31), axis=1, fill_value=0)\n",
    "\n",
    "# heatmap = sns.heatmap(logs_teor_kaf_,\n",
    "#                        annot = True,fmt='.4g',\n",
    "#             cmap=\"viridis_r\",\n",
    "#              linecolor='lightgray',linewidths=0.004\n",
    "#                )\n",
    "# heatmap.set_title('Декабрь', fontdict={'fontsize':20}, pad=16);\n",
    "# plt.yticks(rotation = 0)\n",
    "# heatmap.invert_yaxis()\n",
    "# plt.ylabel('Часы', fontdict={'fontsize':15})\n",
    "# plt.xlabel('Дни', fontdict={'fontsize':15})\n",
    "# plt.show()"
   ]
  },
  {
   "cell_type": "code",
   "execution_count": null,
   "id": "6e8c0223",
   "metadata": {},
   "outputs": [],
   "source": []
  },
  {
   "cell_type": "markdown",
   "id": "15b89a0a",
   "metadata": {},
   "source": [
    "вывод тепловых карт по теоретической работе"
   ]
  },
  {
   "cell_type": "code",
   "execution_count": null,
   "id": "c426532a",
   "metadata": {},
   "outputs": [],
   "source": [
    "def december(Z):\n",
    "    logs_teor_kaf_ = Z.groupby(['month','day','hours'])['userid'].count()\n",
    "    logs_teor_kaf_ = logs_teor_kaf_.loc[12,:,:].reset_index().pivot(index='hours', columns='day', values='userid')\n",
    "    \n",
    "    plt.figure(figsize=(17, 9))\n",
    "    logs_teor_kaf_ = logs_teor_kaf_.reindex(range(0,24), axis=0, fill_value=0)\n",
    "    logs_teor_kaf_= logs_teor_kaf_.reindex(range(1,32), axis=1, fill_value=0)\n",
    "\n",
    "    heatmap = sns.heatmap(logs_teor_kaf_,\n",
    "                           annot = True,fmt='.4g',\n",
    "                cmap=\"viridis_r\",\n",
    "                 linecolor='lightgray',linewidths=0.004\n",
    "                   )\n",
    "    heatmap.set_title('Декабрь', fontdict={'fontsize':20}, pad=16);\n",
    "    plt.yticks(rotation = 0)\n",
    "    heatmap.invert_yaxis()\n",
    "    plt.ylabel('Часы', fontdict={'fontsize':15})\n",
    "    plt.xlabel('Дни', fontdict={'fontsize':15})\n",
    "    plt.show()"
   ]
  },
  {
   "cell_type": "code",
   "execution_count": null,
   "id": "936afbc5",
   "metadata": {},
   "outputs": [],
   "source": [
    "def november(Z):\n",
    "    logs_teor_kaf_ = Z.groupby(['month','day','hours'])['userid'].count()\n",
    "    logs_teor_kaf_ = logs_teor_kaf_.loc[11,:,:].reset_index().pivot(index='hours', columns='day', values='userid')\n",
    "    \n",
    "    plt.figure(figsize=(17, 9))\n",
    "    logs_teor_kaf_ = logs_teor_kaf_.reindex(range(0,24), axis=0, fill_value=0)\n",
    "    logs_teor_kaf_= logs_teor_kaf_.reindex(range(1,31), axis=1, fill_value=0)\n",
    "\n",
    "    heatmap = sns.heatmap(logs_teor_kaf_,\n",
    "                           annot = True,fmt='.4g',\n",
    "                cmap=\"viridis_r\",\n",
    "                 linecolor='lightgray',linewidths=0.004\n",
    "                   )\n",
    "    heatmap.set_title('Ноябрь', fontdict={'fontsize':20}, pad=16);\n",
    "    plt.yticks(rotation = 0)\n",
    "    heatmap.invert_yaxis()\n",
    "    plt.ylabel('Часы', fontdict={'fontsize':15})\n",
    "    plt.xlabel('Дни', fontdict={'fontsize':15})\n",
    "    plt.show()"
   ]
  },
  {
   "cell_type": "code",
   "execution_count": null,
   "id": "e866ead2",
   "metadata": {},
   "outputs": [],
   "source": [
    "def october(Z):\n",
    "    logs_teor_kaf_ = Z.groupby(['month','day','hours'])['userid'].count()\n",
    "    logs_teor_kaf_ = logs_teor_kaf_.loc[10,:,:].reset_index().pivot(index='hours', columns='day', values='userid')\n",
    "    \n",
    "    plt.figure(figsize=(17, 9))\n",
    "    logs_teor_kaf_ = logs_teor_kaf_.reindex(range(0,24), axis=0, fill_value=0)\n",
    "    logs_teor_kaf_= logs_teor_kaf_.reindex(range(1,32), axis=1, fill_value=0)\n",
    "\n",
    "    heatmap = sns.heatmap(logs_teor_kaf_,\n",
    "                           annot = True,fmt='.4g',\n",
    "                cmap=\"viridis_r\",\n",
    "                 linecolor='lightgray',linewidths=0.004\n",
    "                   )\n",
    "    heatmap.set_title('Октябрь', fontdict={'fontsize':20}, pad=16);\n",
    "    plt.yticks(rotation = 0)\n",
    "    heatmap.invert_yaxis()\n",
    "    plt.ylabel('Часы', fontdict={'fontsize':15})\n",
    "    plt.xlabel('Дни', fontdict={'fontsize':15})\n",
    "    plt.show()"
   ]
  },
  {
   "cell_type": "code",
   "execution_count": null,
   "id": "775c51b1",
   "metadata": {},
   "outputs": [],
   "source": [
    "def september(Z):\n",
    "    logs_teor_kaf_ = Z.groupby(['month','day','hours'])['userid'].count()\n",
    "    logs_teor_kaf_ = logs_teor_kaf_.loc[9,:,:].reset_index().pivot(index='hours', columns='day', values='userid')\n",
    "    \n",
    "    plt.figure(figsize=(17, 9))\n",
    "    logs_teor_kaf_ = logs_teor_kaf_.reindex(range(0,24), axis=0, fill_value=0)\n",
    "    logs_teor_kaf_= logs_teor_kaf_.reindex(range(1,31), axis=1, fill_value=0)\n",
    "\n",
    "    heatmap = sns.heatmap(logs_teor_kaf_,\n",
    "                           annot = True,fmt='.4g',\n",
    "                cmap=\"viridis_r\",\n",
    "                 linecolor='lightgray',linewidths=0.004\n",
    "                   )\n",
    "    heatmap.set_title('Сентябрь', fontdict={'fontsize':20}, pad=16);\n",
    "    plt.yticks(rotation = 0)\n",
    "    heatmap.invert_yaxis()\n",
    "    plt.ylabel('Часы', fontdict={'fontsize':15})\n",
    "    plt.xlabel('Дни', fontdict={'fontsize':15})\n",
    "    plt.show()"
   ]
  },
  {
   "cell_type": "code",
   "execution_count": null,
   "id": "91139664",
   "metadata": {},
   "outputs": [],
   "source": [
    "def january(Z):\n",
    "    logs_teor_kaf_ = Z.groupby(['month','day','hours'])['userid'].count()\n",
    "    logs_teor_kaf_ = logs_teor_kaf_.loc[1,:,:].reset_index().pivot(index='hours', columns='day', values='userid')\n",
    "\n",
    "    plt.figure(figsize=(17, 9))\n",
    "    logs_teor_kaf_ = logs_teor_kaf_.reindex(range(0,24), axis=0, fill_value=0)\n",
    "    logs_teor_kaf_= logs_teor_kaf_.reindex(range(1,32), axis=1, fill_value=0)\n",
    "\n",
    "    heatmap = sns.heatmap(logs_teor_kaf_,\n",
    "                           annot = True,fmt='.4g',\n",
    "                cmap=\"viridis_r\",\n",
    "                 linecolor='lightgray',linewidths=0.004\n",
    "                   )\n",
    "    heatmap.set_title('Январь', fontdict={'fontsize':20}, pad=16);\n",
    "    plt.yticks(rotation = 0)\n",
    "    heatmap.invert_yaxis()\n",
    "    plt.ylabel('Часы', fontdict={'fontsize':15})\n",
    "    plt.xlabel('Дни', fontdict={'fontsize':15})\n",
    "    plt.show()"
   ]
  },
  {
   "cell_type": "code",
   "execution_count": null,
   "id": "1624432d",
   "metadata": {},
   "outputs": [],
   "source": [
    "def february(Z):\n",
    "    logs_teor_kaf_ = Z.groupby(['month','day','hours'])['userid'].count()\n",
    "    logs_teor_kaf_ = logs_teor_kaf_.loc[2,:,:].reset_index().pivot(index='hours', columns='day', values='userid')\n",
    "\n",
    "    plt.figure(figsize=(17, 9))\n",
    "    logs_teor_kaf_ = logs_teor_kaf_.reindex(range(0,24), axis=0, fill_value=0)\n",
    "    logs_teor_kaf_= logs_teor_kaf_.reindex(range(1,29), axis=1, fill_value=0)\n",
    "\n",
    "    heatmap = sns.heatmap(logs_teor_kaf_,\n",
    "                           annot = True,fmt='.4g',\n",
    "                cmap=\"viridis_r\",\n",
    "                 linecolor='lightgray',linewidths=0.004\n",
    "                   )\n",
    "    heatmap.set_title('Февраль', fontdict={'fontsize':20}, pad=16);\n",
    "    plt.yticks(rotation = 0)\n",
    "    heatmap.invert_yaxis()\n",
    "    plt.ylabel('Часы', fontdict={'fontsize':15})\n",
    "    plt.xlabel('Дни', fontdict={'fontsize':15})\n",
    "    plt.show()"
   ]
  },
  {
   "cell_type": "code",
   "execution_count": null,
   "id": "b2b79e27",
   "metadata": {},
   "outputs": [],
   "source": [
    "def march(Z):\n",
    "    logs_teor_kaf_ = Z.groupby(['month','day','hours'])['userid'].count()\n",
    "    logs_teor_kaf_ = logs_teor_kaf_.loc[3,:,:].reset_index().pivot(index='hours', columns='day', values='userid')\n",
    "\n",
    "    plt.figure(figsize=(17, 9))\n",
    "    logs_teor_kaf_ = logs_teor_kaf_.reindex(range(0,24), axis=0, fill_value=0)\n",
    "    logs_teor_kaf_= logs_teor_kaf_.reindex(range(1,32), axis=1, fill_value=0)\n",
    "\n",
    "    heatmap = sns.heatmap(logs_teor_kaf_,\n",
    "                           annot = True,fmt='.4g',\n",
    "                cmap=\"viridis_r\",\n",
    "                 linecolor='lightgray',linewidths=0.004\n",
    "                   )\n",
    "    heatmap.set_title('Март', fontdict={'fontsize':20}, pad=16);\n",
    "    plt.yticks(rotation = 0)\n",
    "    heatmap.invert_yaxis()\n",
    "    plt.ylabel('Часы', fontdict={'fontsize':15})\n",
    "    plt.xlabel('Дни', fontdict={'fontsize':15})\n",
    "    plt.show()"
   ]
  },
  {
   "cell_type": "code",
   "execution_count": null,
   "id": "def62d43",
   "metadata": {},
   "outputs": [],
   "source": [
    "def april(Z):\n",
    "    logs_teor_kaf_ = Z.groupby(['month','day','hours'])['userid'].count()\n",
    "    logs_teor_kaf_ = logs_teor_kaf_.loc[4,:,:].reset_index().pivot(index='hours', columns='day', values='userid')\n",
    "\n",
    "    plt.figure(figsize=(17, 9))\n",
    "    logs_teor_kaf_ = logs_teor_kaf_.reindex(range(0,24), axis=0, fill_value=0)\n",
    "    logs_teor_kaf_= logs_teor_kaf_.reindex(range(1,31), axis=1, fill_value=0)\n",
    "\n",
    "    heatmap = sns.heatmap(logs_teor_kaf_,\n",
    "                           annot = True,fmt='.4g',\n",
    "                cmap=\"viridis_r\",\n",
    "                 linecolor='lightgray',linewidths=0.004\n",
    "                   )\n",
    "    heatmap.set_title('Апрель', fontdict={'fontsize':20}, pad=16);\n",
    "    plt.yticks(rotation = 0)\n",
    "    heatmap.invert_yaxis()\n",
    "    plt.ylabel('Часы', fontdict={'fontsize':15})\n",
    "    plt.xlabel('Дни', fontdict={'fontsize':15})\n",
    "    plt.show()"
   ]
  },
  {
   "cell_type": "code",
   "execution_count": null,
   "id": "57d67553",
   "metadata": {},
   "outputs": [],
   "source": [
    "def may(Z):\n",
    "    logs_teor_kaf_ = Z.groupby(['month','day','hours'])['userid'].count()\n",
    "    logs_teor_kaf_ = logs_teor_kaf_.loc[5,:,:].reset_index().pivot(index='hours', columns='day', values='userid')\n",
    "\n",
    "    plt.figure(figsize=(17, 9))\n",
    "    logs_teor_kaf_ = logs_teor_kaf_.reindex(range(0,24), axis=0, fill_value=0)\n",
    "    logs_teor_kaf_= logs_teor_kaf_.reindex(range(1,32), axis=1, fill_value=0)\n",
    "\n",
    "    heatmap = sns.heatmap(logs_teor_kaf_,\n",
    "                           annot = True,fmt='.4g',\n",
    "                cmap=\"viridis_r\",\n",
    "                 linecolor='lightgray',linewidths=0.004\n",
    "                   )\n",
    "    heatmap.set_title('Май', fontdict={'fontsize':20}, pad=16);\n",
    "    plt.yticks(rotation = 0)\n",
    "    heatmap.invert_yaxis()\n",
    "    plt.ylabel('Часы', fontdict={'fontsize':15})\n",
    "    plt.xlabel('Дни', fontdict={'fontsize':15})\n",
    "    plt.show()"
   ]
  },
  {
   "cell_type": "code",
   "execution_count": null,
   "id": "1e2046d5",
   "metadata": {},
   "outputs": [],
   "source": [
    "def june(Z):\n",
    "    logs_teor_kaf_ = Z.groupby(['month','day','hours'])['userid'].count()\n",
    "    logs_teor_kaf_ = logs_teor_kaf_.loc[6,:,:].reset_index().pivot(index='hours', columns='day', values='userid')\n",
    "\n",
    "    plt.figure(figsize=(17, 9))\n",
    "    logs_teor_kaf_ = logs_teor_kaf_.reindex(range(0,24), axis=0, fill_value=0)\n",
    "    logs_teor_kaf_= logs_teor_kaf_.reindex(range(1,31), axis=1, fill_value=0)\n",
    "\n",
    "    heatmap = sns.heatmap(logs_teor_kaf_,\n",
    "                           annot = True,fmt='.4g',\n",
    "                cmap=\"viridis_r\",\n",
    "                 linecolor='lightgray',linewidths=0.004\n",
    "                   )\n",
    "    heatmap.set_title('Июнь', fontdict={'fontsize':20}, pad=16);\n",
    "    plt.yticks(rotation = 0)\n",
    "    heatmap.invert_yaxis()\n",
    "    plt.ylabel('Часы', fontdict={'fontsize':15})\n",
    "    plt.xlabel('Дни', fontdict={'fontsize':15})\n",
    "    plt.show()"
   ]
  },
  {
   "cell_type": "code",
   "execution_count": null,
   "id": "e1500116",
   "metadata": {},
   "outputs": [],
   "source": []
  },
  {
   "cell_type": "code",
   "execution_count": null,
   "id": "dd967795",
   "metadata": {},
   "outputs": [],
   "source": []
  },
  {
   "cell_type": "code",
   "execution_count": null,
   "id": "be98ef5b",
   "metadata": {},
   "outputs": [],
   "source": []
  },
  {
   "cell_type": "code",
   "execution_count": null,
   "id": "ab13d762",
   "metadata": {},
   "outputs": [],
   "source": []
  },
  {
   "cell_type": "code",
   "execution_count": null,
   "id": "12a6a973",
   "metadata": {},
   "outputs": [],
   "source": [
    "from matplotlib.backends.backend_pdf import PdfPages"
   ]
  },
  {
   "cell_type": "code",
   "execution_count": null,
   "id": "be5c9863",
   "metadata": {
    "scrolled": true
   },
   "outputs": [],
   "source": [
    "#ИЭФ\n",
    "i=0\n",
    "while i<len(teor_ief) :\n",
    "    print (ief_kaf_name[i])\n",
    "    september(teor_ief[i])\n",
    "    october(teor_ief[i])\n",
    "    november(teor_ief[i])\n",
    "    december(teor_ief[i])\n",
    "    january(teor_ief[i])\n",
    "    february(teor_ief[i])\n",
    "    march(teor_ief[i])\n",
    "    april(teor_ief[i])\n",
    "    may(teor_ief[i])\n",
    "    june(teor_ief[i])\n",
    "    i+=1\n"
   ]
  },
  {
   "cell_type": "code",
   "execution_count": null,
   "id": "cada4e58",
   "metadata": {
    "scrolled": true
   },
   "outputs": [],
   "source": [
    "#ФИК\n",
    "i=0\n",
    "\n",
    "while i<len(teor_fik) :\n",
    "    print (fik_kaf_name[i])\n",
    "    september(teor_fik[i])\n",
    "    october(teor_fik[i])\n",
    "    november(teor_fik[i])\n",
    "    december(teor_fik[i])\n",
    "    january(teor_fik[i])\n",
    "    february(teor_fik[i])\n",
    "    march(teor_fik[i])\n",
    "    april(teor_fik[i])\n",
    "    may(teor_fik[i])\n",
    "    june(teor_fik[i])\n",
    "    i+=1\n"
   ]
  },
  {
   "cell_type": "code",
   "execution_count": null,
   "id": "fd280dd7",
   "metadata": {
    "scrolled": true
   },
   "outputs": [],
   "source": [
    "#ФКСиС\n",
    "i=0\n",
    "while i<len(teor_fksis) :\n",
    "    print (fksis_kaf_name[i])\n",
    "    september(teor_fksis[i])\n",
    "    october(teor_fksis[i])\n",
    "    november(teor_fksis[i])\n",
    "    december(teor_fksis[i])\n",
    "    january(teor_fksis[i])\n",
    "    february(teor_fksis[i])\n",
    "    march(teor_fksis[i])\n",
    "    april(teor_fksis[i])\n",
    "    may(teor_fksis[i])\n",
    "    june(teor_fksis[i])\n",
    "    i+=1"
   ]
  },
  {
   "cell_type": "code",
   "execution_count": null,
   "id": "6ca2f5e3",
   "metadata": {
    "scrolled": true
   },
   "outputs": [],
   "source": [
    "#ФРЭ\n",
    "i=0\n",
    "while i<len(teor_fre) :\n",
    "    print (fre_kaf_name[i])\n",
    "    september(teor_fre[i])\n",
    "    october(teor_fre[i])\n",
    "    november(teor_fre[i])\n",
    "    december(teor_fre[i])\n",
    "    january(teor_fre[i])\n",
    "    february(teor_fre[i])\n",
    "    march(teor_fre[i])\n",
    "    april(teor_fre[i])\n",
    "    may(teor_fre[i])\n",
    "    june(teor_fre[i])\n",
    "    i+=1"
   ]
  },
  {
   "cell_type": "code",
   "execution_count": null,
   "id": "10321d41",
   "metadata": {
    "scrolled": true
   },
   "outputs": [],
   "source": [
    "#ФИТУ\n",
    "i=0\n",
    "while i<len(teor_fitu) :\n",
    "    print (fitu_kaf_name[i])\n",
    "    september(teor_fitu[i])\n",
    "    october(teor_fitu[i])\n",
    "    november(teor_fitu[i])\n",
    "    december(teor_fitu[i])\n",
    "    january(teor_fitu[i])\n",
    "    february(teor_fitu[i])\n",
    "    march(teor_fitu[i])\n",
    "    april(teor_fitu[i])\n",
    "    may(teor_fitu[i])\n",
    "    june(teor_fitu[i])\n",
    "    i+=1"
   ]
  },
  {
   "cell_type": "code",
   "execution_count": null,
   "id": "59866b12",
   "metadata": {
    "scrolled": true
   },
   "outputs": [],
   "source": [
    "#ФКП\n",
    "# Тепловые карты по теории\n",
    "i=0\n",
    "while i<len(teor_fkp) :\n",
    "    print (fkp_kaf_name[i])\n",
    "    september(teor_fkp[i])\n",
    "    october(teor_fkp[i])\n",
    "    november(teor_fkp[i])\n",
    "    december(teor_fkp[i])\n",
    "    january(teor_fkp[i])\n",
    "    february(teor_fkp[i])\n",
    "    march(teor_fkp[i])\n",
    "    april(teor_fkp[i])\n",
    "    may(teor_fkp[i])\n",
    "    june(teor_fkp[i])\n",
    "    i+=1"
   ]
  },
  {
   "cell_type": "code",
   "execution_count": null,
   "id": "b57438cc",
   "metadata": {},
   "outputs": [],
   "source": []
  }
 ],
 "metadata": {
  "kernelspec": {
   "display_name": "Python 3 (ipykernel)",
   "language": "python",
   "name": "python3"
  },
  "language_info": {
   "codemirror_mode": {
    "name": "ipython",
    "version": 3
   },
   "file_extension": ".py",
   "mimetype": "text/x-python",
   "name": "python",
   "nbconvert_exporter": "python",
   "pygments_lexer": "ipython3",
   "version": "3.9.12"
  }
 },
 "nbformat": 4,
 "nbformat_minor": 5
}
